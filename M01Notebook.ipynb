{
 "cells": [
  {
   "cell_type": "code",
   "execution_count": 2,
   "id": "bb576535-da4b-44cd-8dc8-e8e5e9122792",
   "metadata": {},
   "outputs": [
    {
     "name": "stdout",
     "output_type": "stream",
     "text": [
      "There are 3600 seconds in an hour.\n"
     ]
    }
   ],
   "source": [
    "second = 1\n",
    "minute = second * 60\n",
    "hour = minute * 60\n",
    "\n",
    "print(f\"There are {hour} seconds in an hour.\")"
   ]
  },
  {
   "cell_type": "code",
   "execution_count": 4,
   "id": "64679dc5-84d3-4675-a6fa-eb6d69d32a2b",
   "metadata": {},
   "outputs": [],
   "source": [
    "seconds_per_hour = 3600"
   ]
  },
  {
   "cell_type": "code",
   "execution_count": 6,
   "id": "7597c7d1-65ee-40c5-82ae-5a33961c9f8b",
   "metadata": {},
   "outputs": [
    {
     "name": "stdout",
     "output_type": "stream",
     "text": [
      "There are 86400 seconds in a day.\n"
     ]
    }
   ],
   "source": [
    "seconds_per_day = seconds_per_hour * 24\n",
    "\n",
    "print(f\"There are {seconds_per_day} seconds in a day.\")"
   ]
  },
  {
   "cell_type": "code",
   "execution_count": 8,
   "id": "80c3627a-0ed3-4598-aa85-f24d4a0fbf60",
   "metadata": {},
   "outputs": [],
   "source": [
    "seconds_per_day = seconds_per_hour * 24"
   ]
  },
  {
   "cell_type": "code",
   "execution_count": 12,
   "id": "2ebc305e-3d71-4f45-b8a2-a793cd8690ae",
   "metadata": {},
   "outputs": [
    {
     "name": "stdout",
     "output_type": "stream",
     "text": [
      "The answer to question five is 24.0\n"
     ]
    }
   ],
   "source": [
    "answerFive = seconds_per_day / seconds_per_hour\n",
    "\n",
    "print(\"The answer to question five is\", answerFive)"
   ]
  },
  {
   "cell_type": "code",
   "execution_count": 16,
   "id": "e710cfe1-ad6a-4e2d-a943-5542f6729ae3",
   "metadata": {},
   "outputs": [
    {
     "name": "stdout",
     "output_type": "stream",
     "text": [
      "The answer to question six is 24\n",
      "Yes.\n"
     ]
    }
   ],
   "source": [
    "answerSix = seconds_per_day // seconds_per_hour\n",
    "\n",
    "print(\"The answer to question six is\", answerSix)\n",
    "if answerSix == int(24.0):\n",
    "    print(\"Yes.\")\n",
    "else:\n",
    "    print(\"No.\")"
   ]
  }
 ],
 "metadata": {
  "kernelspec": {
   "display_name": "Python [conda env:base] *",
   "language": "python",
   "name": "conda-base-py"
  },
  "language_info": {
   "codemirror_mode": {
    "name": "ipython",
    "version": 3
   },
   "file_extension": ".py",
   "mimetype": "text/x-python",
   "name": "python",
   "nbconvert_exporter": "python",
   "pygments_lexer": "ipython3",
   "version": "3.12.7"
  }
 },
 "nbformat": 4,
 "nbformat_minor": 5
}
