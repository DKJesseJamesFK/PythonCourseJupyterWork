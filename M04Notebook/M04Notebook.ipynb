{
 "cells": [
  {
   "cell_type": "code",
   "execution_count": 20,
   "id": "df8693c6-8ba4-4215-a9ac-3014911e616d",
   "metadata": {},
   "outputs": [],
   "source": [
    "# 11.1 Completed as Python file in VSC."
   ]
  },
  {
   "cell_type": "code",
   "execution_count": 4,
   "id": "2bec51ab-314d-46fc-a9ec-e22e6a6ca3be",
   "metadata": {},
   "outputs": [
    {
     "name": "stdout",
     "output_type": "stream",
     "text": [
      "Open 9-5 daily\n"
     ]
    }
   ],
   "source": [
    "# 11.2\n",
    "import zoo as menagerie\n",
    "\n",
    "menagerie.hours()"
   ]
  },
  {
   "cell_type": "code",
   "execution_count": 18,
   "id": "91d8bcfd-d137-4646-adea-b13e54fecc6b",
   "metadata": {},
   "outputs": [],
   "source": [
    "# 16.1 Completed as CSV file in VSC."
   ]
  },
  {
   "cell_type": "code",
   "execution_count": 14,
   "id": "7eddd550-dc8c-4b74-9a10-a77170e80e66",
   "metadata": {},
   "outputs": [
    {
     "name": "stdout",
     "output_type": "stream",
     "text": [
      "{'author': 'J R R Tolkien', 'book': 'The Hobbit'}\n",
      "{'author': 'Lynne Truss', 'book': 'Eats, Shoots, & Leaves'}\n"
     ]
    }
   ],
   "source": [
    "# 16.2\n",
    "import csv\n",
    "\n",
    "with open('books.csv', 'r') as csvfile:\n",
    "    books = csv.DictReader(csvfile)\n",
    "    for row in books:\n",
    "        print(row)\n",
    "\n",
    "# Yes, everything was handled perfectly."
   ]
  },
  {
   "cell_type": "code",
   "execution_count": 22,
   "id": "013e6ab4-dd9e-4760-ab76-db5fc5e7b7fa",
   "metadata": {},
   "outputs": [],
   "source": [
    "# 16.3 Completed as CSV file in VSC."
   ]
  },
  {
   "cell_type": "code",
   "execution_count": 24,
   "id": "ffcea860-f8c1-4d1b-b1ff-39f646db0e4f",
   "metadata": {},
   "outputs": [
    {
     "data": {
      "text/plain": [
       "<sqlite3.Cursor at 0x1387984c0>"
      ]
     },
     "execution_count": 24,
     "metadata": {},
     "output_type": "execute_result"
    }
   ],
   "source": [
    "# 16.4\n",
    "import sqlite3\n",
    "\n",
    "conn = sqlite3.connect('books.db')\n",
    "curs = conn.cursor()\n",
    "curs.execute('''CREATE TABLE books\n",
    "(title VARCHAR(50) PRIMARY KEY,\n",
    "author VARCHAR(50),\n",
    "year INT)''')"
   ]
  },
  {
   "cell_type": "code",
   "execution_count": 28,
   "id": "7bbc78c7-8242-455d-ab89-50d5ee30ba0d",
   "metadata": {},
   "outputs": [],
   "source": [
    "# 16.5\n",
    "with open('books2.csv', 'r') as csvfile2:\n",
    "    books2 = csv.DictReader(csvfile2)\n",
    "    for row in books2:\n",
    "        title = row['title']\n",
    "        author = row['author']\n",
    "        year = int(row['year'])\n",
    "        ins = 'INSERT INTO books (title, author, year) VALUES(?, ?, ?)'\n",
    "        curs.execute(ins, (title, author, year))\n",
    "\n",
    "conn.commit()\n",
    "conn.close()"
   ]
  },
  {
   "cell_type": "code",
   "execution_count": 44,
   "id": "0459e54f-c63a-4172-b0c8-7598f3b2fb45",
   "metadata": {},
   "outputs": [
    {
     "name": "stdout",
     "output_type": "stream",
     "text": [
      "Perdido Street Station\n",
      "Small Gods\n",
      "The Spellman Files\n",
      "The Weirdstone of Brisingamen\n",
      "Thud!\n"
     ]
    }
   ],
   "source": [
    "# 16.8\n",
    "import sqlalchemy as sa\n",
    "\n",
    "engine = sa.create_engine('sqlite:///books.db')\n",
    "with engine.connect() as connection:\n",
    "    all_books = connection.execute(sa.text('SELECT title FROM books ORDER BY title'))\n",
    "    for row in all_books:\n",
    "        print(row[0])"
   ]
  }
 ],
 "metadata": {
  "kernelspec": {
   "display_name": "Python [conda env:base] *",
   "language": "python",
   "name": "conda-base-py"
  },
  "language_info": {
   "codemirror_mode": {
    "name": "ipython",
    "version": 3
   },
   "file_extension": ".py",
   "mimetype": "text/x-python",
   "name": "python",
   "nbconvert_exporter": "python",
   "pygments_lexer": "ipython3",
   "version": "3.12.7"
  }
 },
 "nbformat": 4,
 "nbformat_minor": 5
}
