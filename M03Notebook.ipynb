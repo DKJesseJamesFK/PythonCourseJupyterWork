{
 "cells": [
  {
   "cell_type": "code",
   "execution_count": 26,
   "id": "cb36fd1b-9d7e-4a60-978c-ee3cf8b8ee5c",
   "metadata": {},
   "outputs": [],
   "source": [
    "# 7.4\n",
    "things = [\"mozzarella\", \"cinderella\", \"salmonella\"]"
   ]
  },
  {
   "cell_type": "code",
   "execution_count": 28,
   "id": "10a8506b-2d5e-4e14-b4dc-fd89a5eb9d72",
   "metadata": {},
   "outputs": [
    {
     "name": "stdout",
     "output_type": "stream",
     "text": [
      "['mozzarella', 'Cinderella', 'salmonella']\n",
      "# Yes, it did change the list element!\n"
     ]
    }
   ],
   "source": [
    "# 7.5\n",
    "things[1] = things[1].capitalize()\n",
    "print(things)\n",
    "print(\"# Yes, it did change the list element!\")"
   ]
  },
  {
   "cell_type": "code",
   "execution_count": 30,
   "id": "bab1292f-1501-424c-9888-22e18e1c38fd",
   "metadata": {},
   "outputs": [
    {
     "name": "stdout",
     "output_type": "stream",
     "text": [
      "['MOZZARELLA', 'Cinderella', 'salmonella']\n"
     ]
    }
   ],
   "source": [
    "# 7.6\n",
    "things[0] = things[0].upper()\n",
    "print(things)"
   ]
  },
  {
   "cell_type": "code",
   "execution_count": 40,
   "id": "7ea04820-0853-4238-a292-8c3ae1585518",
   "metadata": {},
   "outputs": [
    {
     "name": "stdout",
     "output_type": "stream",
     "text": [
      "['MOZZARELLA', 'Cinderella']\n"
     ]
    }
   ],
   "source": [
    "# 7.7\n",
    "things.pop()\n",
    "print(things)"
   ]
  },
  {
   "cell_type": "code",
   "execution_count": null,
   "id": "49f9c8dd-f53c-4466-8742-219d0491c46a",
   "metadata": {},
   "outputs": [],
   "source": [
    "# 9.1\n",
    "def good():\n",
    "    \"\"\"Returns the following list: ['Harry', 'Ron', 'Hermione']\"\"\"\n",
    "    good_list = ['Harry', 'Ron', 'Hermione']\n",
    "    return good_list"
   ]
  },
  {
   "cell_type": "code",
   "execution_count": 62,
   "id": "4fe8b350-6114-459d-a9bd-de4f3590bf5a",
   "metadata": {},
   "outputs": [
    {
     "name": "stdout",
     "output_type": "stream",
     "text": [
      "5\n"
     ]
    }
   ],
   "source": [
    "# 9.2\n",
    "def get_odds(my_range = 10):\n",
    "    \"\"\"Returns the odd numbers from my_range, which is set to 10 as default. \"\"\"\n",
    "    for num in range(my_range):\n",
    "        if num % 2 != 0:\n",
    "            yield num\n",
    "\n",
    "for i, num in enumerate(get_odds()):\n",
    "    if i == 2:\n",
    "        print(num)"
   ]
  }
 ],
 "metadata": {
  "kernelspec": {
   "display_name": "Python [conda env:base] *",
   "language": "python",
   "name": "conda-base-py"
  },
  "language_info": {
   "codemirror_mode": {
    "name": "ipython",
    "version": 3
   },
   "file_extension": ".py",
   "mimetype": "text/x-python",
   "name": "python",
   "nbconvert_exporter": "python",
   "pygments_lexer": "ipython3",
   "version": "3.12.7"
  }
 },
 "nbformat": 4,
 "nbformat_minor": 5
}
