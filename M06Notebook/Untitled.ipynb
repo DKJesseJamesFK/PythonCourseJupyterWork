{
 "cells": [
  {
   "cell_type": "code",
   "execution_count": 2,
   "id": "54d9a76b-fd81-4d63-98fc-72de35ef6ef3",
   "metadata": {},
   "outputs": [],
   "source": [
    "# 13.1 Created text file today.txt"
   ]
  },
  {
   "cell_type": "code",
   "execution_count": 6,
   "id": "933524bb-6e8b-4d9c-bce2-2fca4eafc207",
   "metadata": {},
   "outputs": [],
   "source": [
    "# 13.2\n",
    "with open('today.txt', 'r') as file:\n",
    "    today_string = file.read().strip()"
   ]
  },
  {
   "cell_type": "code",
   "execution_count": 8,
   "id": "1ff5e526-9778-4a08-a685-33e3a06725c6",
   "metadata": {},
   "outputs": [
    {
     "data": {
      "text/plain": [
       "time.struct_time(tm_year=2025, tm_mon=2, tm_mday=24, tm_hour=0, tm_min=0, tm_sec=0, tm_wday=0, tm_yday=55, tm_isdst=-1)"
      ]
     },
     "execution_count": 8,
     "metadata": {},
     "output_type": "execute_result"
    }
   ],
   "source": [
    "# 13.3\n",
    "import time\n",
    "fmt = \"%Y-%m-%d\"\n",
    "time.strptime(today_string, fmt)"
   ]
  },
  {
   "cell_type": "code",
   "execution_count": 60,
   "id": "c5b144ff-bc35-4775-b987-e6bc40782b0f",
   "metadata": {},
   "outputs": [],
   "source": [
    "# 15.1 I GOT THIS TO WORK IN VSC. I'm not sure why it will not hwork in Jupyter, but I included the VSC file.\n",
    "import multiprocessing\n",
    "import random\n",
    "import time\n",
    "\n",
    "def print_time():\n",
    "    fmt = \"The current time is %I:%M:%S%p.\"\n",
    "    time.sleep(random.uniform(0, 1))\n",
    "    current_time = time.gmtime()\n",
    "    print(time.strftime(fmt, current_time))\n",
    "\n",
    "if __name__ == \"__main__\":\n",
    "    for i in range(3):\n",
    "        p = multiprocessing.Process(target=print_time)\n",
    "        p.start()"
   ]
  }
 ],
 "metadata": {
  "kernelspec": {
   "display_name": "Python [conda env:base] *",
   "language": "python",
   "name": "conda-base-py"
  },
  "language_info": {
   "codemirror_mode": {
    "name": "ipython",
    "version": 3
   },
   "file_extension": ".py",
   "mimetype": "text/x-python",
   "name": "python",
   "nbconvert_exporter": "python",
   "pygments_lexer": "ipython3",
   "version": "3.12.7"
  }
 },
 "nbformat": 4,
 "nbformat_minor": 5
}
