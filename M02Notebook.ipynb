{
 "cells": [
  {
   "cell_type": "code",
   "execution_count": 2,
   "id": "64c07609-b44d-40b3-9b54-6c18ba9738c2",
   "metadata": {},
   "outputs": [
    {
     "name": "stdout",
     "output_type": "stream",
     "text": [
      "too low\n"
     ]
    }
   ],
   "source": [
    "# 4.1\n",
    "secret = 7\n",
    "guess = 5\n",
    "\n",
    "if guess < secret:\n",
    "    print(\"too low\")\n",
    "elif guess > secret:\n",
    "    print(\"too high\")\n",
    "else:\n",
    "    print(\"just right\")"
   ]
  },
  {
   "cell_type": "code",
   "execution_count": 10,
   "id": "7075a086-61bb-4656-982b-e7f8d95c0961",
   "metadata": {},
   "outputs": [
    {
     "name": "stdout",
     "output_type": "stream",
     "text": [
      "This item is a pumpkin\n"
     ]
    }
   ],
   "source": [
    "# 4.2\n",
    "small = False\n",
    "green = False\n",
    "item = ''\n",
    "\n",
    "if small:\n",
    "    if green:\n",
    "        item = 'pea'\n",
    "    else:\n",
    "        item = 'cherry'\n",
    "else:\n",
    "    if green:\n",
    "        item = 'watermelon'\n",
    "    else:\n",
    "        item = 'pumpkin'\n",
    "\n",
    "print(\"This item is a \" + item)"
   ]
  },
  {
   "cell_type": "code",
   "execution_count": 18,
   "id": "ffcde966-2198-4e90-aa6e-2f12b811ad81",
   "metadata": {},
   "outputs": [
    {
     "name": "stdout",
     "output_type": "stream",
     "text": [
      "3\n",
      "2\n",
      "1\n",
      "0\n"
     ]
    }
   ],
   "source": [
    "# 6.1\n",
    "nums = [3, 2, 1, 0]\n",
    "\n",
    "for number in nums:\n",
    "    print(number)"
   ]
  },
  {
   "cell_type": "code",
   "execution_count": 26,
   "id": "c0045b12-a21f-4f25-ab5b-350464f7f72b",
   "metadata": {},
   "outputs": [
    {
     "name": "stdout",
     "output_type": "stream",
     "text": [
      "too low\n",
      "too low\n",
      "too low\n",
      "too low\n",
      "too low\n",
      "too low\n",
      "found it!\n"
     ]
    }
   ],
   "source": [
    "# 6.2\n",
    "guess_me = 7\n",
    "number = 1\n",
    "\n",
    "while True:\n",
    "    if number == guess_me:\n",
    "        print('found it!')\n",
    "        break\n",
    "    if number > guess_me:\n",
    "        print('oops')\n",
    "        break\n",
    "    if number < guess_me:\n",
    "        print('too low')\n",
    "        number += 1"
   ]
  },
  {
   "cell_type": "code",
   "execution_count": 36,
   "id": "eb99a611-b293-4ac9-8bea-57fc8a618d74",
   "metadata": {},
   "outputs": [
    {
     "name": "stdout",
     "output_type": "stream",
     "text": [
      "too low\n",
      "too low\n",
      "too low\n",
      "too low\n",
      "too low\n",
      "found it!\n"
     ]
    }
   ],
   "source": [
    "# 6.3\n",
    "guess_me = 5\n",
    "\n",
    "for number in range(10):\n",
    "    if number == guess_me:\n",
    "        print('found it!')\n",
    "        break\n",
    "    elif number > guess_me:\n",
    "        print('oops')\n",
    "        break\n",
    "    else:\n",
    "        print('too low')"
   ]
  }
 ],
 "metadata": {
  "kernelspec": {
   "display_name": "Python [conda env:base] *",
   "language": "python",
   "name": "conda-base-py"
  },
  "language_info": {
   "codemirror_mode": {
    "name": "ipython",
    "version": 3
   },
   "file_extension": ".py",
   "mimetype": "text/x-python",
   "name": "python",
   "nbconvert_exporter": "python",
   "pygments_lexer": "ipython3",
   "version": "3.12.7"
  }
 },
 "nbformat": 4,
 "nbformat_minor": 5
}
